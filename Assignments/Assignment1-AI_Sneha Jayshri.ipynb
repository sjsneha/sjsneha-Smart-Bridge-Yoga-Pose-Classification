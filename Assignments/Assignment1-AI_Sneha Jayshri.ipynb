{
 "cells": [
  {
   "cell_type": "code",
   "execution_count": 1,
   "id": "c2a2be98",
   "metadata": {},
   "outputs": [],
   "source": [
    "import numpy as np\n",
    "import pandas as pd"
   ]
  },
  {
   "cell_type": "code",
   "execution_count": 2,
   "id": "dc64c333",
   "metadata": {},
   "outputs": [
    {
     "name": "stdout",
     "output_type": "stream",
     "text": [
      "   Feature 1  Feature 2  Feature 3  Feature 4\n",
      "0   0.696469   0.286139   0.226851   0.551315\n",
      "1   0.719469   0.423106   0.980764   0.684830\n",
      "2   0.480932   0.392118   0.343178   0.729050\n",
      "3   0.438572   0.059678   0.398044   0.737995\n"
     ]
    }
   ],
   "source": [
    "#1. Create a pandas dataframe (DataFrame name as 'di) with numpy random values (4 features and 4 observation)\n",
    "import numpy as np\n",
    "import pandas as pd\n",
    "\n",
    "# Set seed for reproducibility\n",
    "np.random.seed(123)\n",
    "\n",
    "# Create a NumPy array with random values\n",
    "data = np.random.rand(4, 4)\n",
    "\n",
    "# Create the DataFrame\n",
    "di = pd.DataFrame(data, columns=['Feature 1', 'Feature 2', 'Feature 3', 'Feature 4'])\n",
    "\n",
    "# Print the DataFrame\n",
    "print(di)\n"
   ]
  },
  {
   "cell_type": "code",
   "execution_count": 3,
   "id": "8ab91d0a",
   "metadata": {},
   "outputs": [
    {
     "name": "stdout",
     "output_type": "stream",
     "text": [
      "   Random value 1  Random value 2  Random value 3  Random value 4\n",
      "0        0.696469        0.286139        0.226851        0.551315\n",
      "1        0.719469        0.423106        0.980764        0.684830\n",
      "2        0.480932        0.392118        0.343178        0.729050\n",
      "3        0.438572        0.059678        0.398044        0.737995\n"
     ]
    }
   ],
   "source": [
    "#2. Rename the task - 1 'dP dataframe column names to 'Random value 1°. 'Random value 2', 'Randomalue 3' & 'Random value\n",
    "import pandas as pd\n",
    "\n",
    "# Rename the column names\n",
    "di = di.rename(columns={'Feature 1': 'Random value 1', 'Feature 2': 'Random value 2',\n",
    "                        'Feature 3': 'Random value 3', 'Feature 4': 'Random value 4'})\n",
    "\n",
    "# Print the updated DataFrame\n",
    "print(di)\n"
   ]
  },
  {
   "cell_type": "code",
   "execution_count": 4,
   "id": "cc19c310",
   "metadata": {},
   "outputs": [
    {
     "name": "stdout",
     "output_type": "stream",
     "text": [
      "       Random value 1  Random value 2  Random value 3  Random value 4\n",
      "count        4.000000        4.000000        4.000000        4.000000\n",
      "mean         0.583861        0.290260        0.487209        0.675797\n",
      "std          0.144653        0.164528        0.336689        0.086182\n",
      "min          0.438572        0.059678        0.226851        0.551315\n",
      "25%          0.470342        0.229524        0.314096        0.651451\n",
      "50%          0.588701        0.339128        0.370611        0.706940\n",
      "75%          0.702219        0.399865        0.543724        0.731286\n",
      "max          0.719469        0.423106        0.980764        0.737995\n"
     ]
    }
   ],
   "source": [
    "#3. Find the descriptive statistics of the 'd dataframe.\n",
    "# Calculate descriptive statistics\n",
    "di_statistics = di.describe()\n",
    "\n",
    "# Print the descriptive statistics\n",
    "print(di_statistics)\n"
   ]
  },
  {
   "cell_type": "code",
   "execution_count": 5,
   "id": "af376f22",
   "metadata": {},
   "outputs": [
    {
     "name": "stdout",
     "output_type": "stream",
     "text": [
      "Null values:\n",
      "Random value 1    0\n",
      "Random value 2    0\n",
      "Random value 3    0\n",
      "Random value 4    0\n",
      "dtype: int64\n",
      "\n",
      "Data types:\n",
      "Random value 1    float64\n",
      "Random value 2    float64\n",
      "Random value 3    float64\n",
      "Random value 4    float64\n",
      "dtype: object\n"
     ]
    }
   ],
   "source": [
    "#4. Check for the null values in 'df and find the data type of the columns.\n",
    "# Check for null values\n",
    "null_values = di.isnull().sum()\n",
    "\n",
    "# Print the null values\n",
    "print(\"Null values:\")\n",
    "print(null_values)\n",
    "\n",
    "# Find the data type of columns\n",
    "data_types = di.dtypes\n",
    "\n",
    "# Print the data types\n",
    "print(\"\\nData types:\")\n",
    "print(data_types)\n"
   ]
  },
  {
   "cell_type": "code",
   "execution_count": 6,
   "id": "8ed2fbba",
   "metadata": {},
   "outputs": [
    {
     "name": "stdout",
     "output_type": "stream",
     "text": [
      "Using location method:\n",
      "   Random value 2  Random value 3\n",
      "0        0.286139        0.226851\n",
      "1        0.423106        0.980764\n",
      "2        0.392118        0.343178\n",
      "3        0.059678        0.398044\n",
      "\n",
      "Using index location method:\n",
      "   Random value 2  Random value 3\n",
      "0        0.286139        0.226851\n",
      "1        0.423106        0.980764\n",
      "2        0.392118        0.343178\n",
      "3        0.059678        0.398044\n"
     ]
    }
   ],
   "source": [
    "#5. Display the 'Random value 2' & 'Random value 3' columns with location method and index location method.\n",
    "# Display columns using location method\n",
    "columns_location = di.loc[:, ['Random value 2', 'Random value 3']]\n",
    "print(\"Using location method:\")\n",
    "print(columns_location)\n",
    "\n",
    "# Display columns using index location method\n",
    "index_location = di.iloc[:, [1, 2]]\n",
    "print(\"\\nUsing index location method:\")\n",
    "print(index_location)\n"
   ]
  },
  {
   "cell_type": "code",
   "execution_count": 7,
   "id": "5913dd29",
   "metadata": {},
   "outputs": [
    {
     "name": "stdout",
     "output_type": "stream",
     "text": [
      "DataFrame:\n",
      "   Random value 1°  Random value 2°  Random value 3°  Random value 4°\n",
      "0         0.374540         0.950714         0.731994         0.598658\n",
      "1         0.156019         0.155995         0.058084         0.866176\n",
      "2         0.601115         0.708073         0.020584         0.969910\n",
      "3         0.832443         0.212339         0.181825         0.183405\n",
      "\n",
      "Descriptive Statistics:\n",
      "       Random value 1°  Random value 2°  Random value 3°  Random value 4°\n",
      "count         4.000000         4.000000         4.000000         4.000000\n",
      "mean          0.491029         0.506780         0.248122         0.654537\n",
      "std           0.291252         0.386153         0.329856         0.350875\n",
      "min           0.156019         0.155995         0.020584         0.183405\n",
      "25%           0.319910         0.198253         0.048709         0.494845\n",
      "50%           0.487828         0.460206         0.119954         0.732417\n",
      "75%           0.658947         0.768733         0.319367         0.892110\n",
      "max           0.832443         0.950714         0.731994         0.969910\n",
      "\n",
      "Null Values:\n",
      "Random value 1°    0\n",
      "Random value 2°    0\n",
      "Random value 3°    0\n",
      "Random value 4°    0\n",
      "dtype: int64\n",
      "\n",
      "Data Types:\n",
      "Random value 1°    float64\n",
      "Random value 2°    float64\n",
      "Random value 3°    float64\n",
      "Random value 4°    float64\n",
      "dtype: object\n",
      "\n",
      "Random value 2 (Location Method):\n",
      "0    0.950714\n",
      "1    0.155995\n",
      "2    0.708073\n",
      "3    0.212339\n",
      "Name: Random value 2°, dtype: float64\n",
      "\n",
      "Random value 3 (Location Method):\n",
      "0    0.731994\n",
      "1    0.058084\n",
      "2    0.020584\n",
      "3    0.181825\n",
      "Name: Random value 3°, dtype: float64\n",
      "\n",
      "Random value 2 (Index Location Method):\n",
      "0    0.950714\n",
      "1    0.155995\n",
      "2    0.708073\n",
      "3    0.212339\n",
      "Name: Random value 2°, dtype: float64\n",
      "\n",
      "Random value 3 (Index Location Method):\n",
      "0    0.731994\n",
      "1    0.058084\n",
      "2    0.020584\n",
      "3    0.181825\n",
      "Name: Random value 3°, dtype: float64\n"
     ]
    }
   ],
   "source": [
    "#All Tasks Together:\n",
    "# Task 1: Create a pandas DataFrame with numpy random values\n",
    "np.random.seed(42)  # Setting random seed for reproducibility\n",
    "data = np.random.rand(4, 4)  # Generating random values\n",
    "df = pd.DataFrame(data, columns=['Random value 1', 'Random value 2', 'Random value 3', 'Random value 4'])\n",
    "\n",
    "# Task 2: Rename the DataFrame column names\n",
    "df.rename(columns={'Random value 1': 'Random value 1°', 'Random value 2': 'Random value 2°', \n",
    "                   'Random value 3': 'Random value 3°', 'Random value 4': 'Random value 4°'}, inplace=True)\n",
    "\n",
    "# Task 3: Find the descriptive statistics of the DataFrame\n",
    "descriptive_stats = df.describe()\n",
    "\n",
    "# Task 4: Check for null values and data types of columns\n",
    "null_values = df.isnull().sum()\n",
    "data_types = df.dtypes\n",
    "\n",
    "# Task 5: Display 'Random value 2' & 'Random value 3' columns with location method and index location method\n",
    "random_value_2_location = df.loc[:, 'Random value 2°']\n",
    "random_value_3_location = df.loc[:, 'Random value 3°']\n",
    "random_value_2_index = df.iloc[:, 1]\n",
    "random_value_3_index = df.iloc[:, 2]\n",
    "\n",
    "# Printing the results\n",
    "print(\"DataFrame:\")\n",
    "print(df)\n",
    "print(\"\\nDescriptive Statistics:\")\n",
    "print(descriptive_stats)\n",
    "print(\"\\nNull Values:\")\n",
    "print(null_values)\n",
    "print(\"\\nData Types:\")\n",
    "print(data_types)\n",
    "print(\"\\nRandom value 2 (Location Method):\")\n",
    "print(random_value_2_location)\n",
    "print(\"\\nRandom value 3 (Location Method):\")\n",
    "print(random_value_3_location)\n",
    "print(\"\\nRandom value 2 (Index Location Method):\")\n",
    "print(random_value_2_index)\n",
    "print(\"\\nRandom value 3 (Index Location Method):\")\n",
    "print(random_value_3_index)"
   ]
  },
  {
   "cell_type": "code",
   "execution_count": null,
   "id": "1752f4be",
   "metadata": {},
   "outputs": [],
   "source": []
  }
 ],
 "metadata": {
  "kernelspec": {
   "display_name": "Python 3 (ipykernel)",
   "language": "python",
   "name": "python3"
  },
  "language_info": {
   "codemirror_mode": {
    "name": "ipython",
    "version": 3
   },
   "file_extension": ".py",
   "mimetype": "text/x-python",
   "name": "python",
   "nbconvert_exporter": "python",
   "pygments_lexer": "ipython3",
   "version": "3.8.12"
  }
 },
 "nbformat": 4,
 "nbformat_minor": 5
}
